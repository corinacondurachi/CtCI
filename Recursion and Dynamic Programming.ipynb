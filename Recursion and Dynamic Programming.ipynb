{
 "cells": [
  {
   "cell_type": "code",
   "execution_count": 5,
   "metadata": {},
   "outputs": [
    {
     "data": {
      "text/plain": [
       "4"
      ]
     },
     "execution_count": 5,
     "metadata": {},
     "output_type": "execute_result"
    }
   ],
   "source": [
    "# 8.1\n",
    "\n",
    "def count_ways(n):\n",
    "\n",
    "    ways = [-1] * (n+1)\n",
    "    return count_ways2(n, ways)\n",
    "\n",
    "def count_ways2(n, ways):\n",
    "    \n",
    "    if n < 0:\n",
    "        return 0\n",
    "    if n == 0:\n",
    "        return 1\n",
    "    if ways[n] > -1:\n",
    "        return ways[n]\n",
    "    else:\n",
    "        ways[n] = count_ways2(n-1, ways) + count_ways2(n-2, ways) + count_ways2(n-3, ways)\n",
    "        return ways[n]\n",
    "    \n",
    "count_ways(3)"
   ]
  },
  {
   "cell_type": "code",
   "execution_count": 19,
   "metadata": {},
   "outputs": [
    {
     "data": {
      "text/plain": [
       "[(0, 0),\n",
       " (0, 1),\n",
       " (0, 2),\n",
       " (0, 3),\n",
       " (1, 3),\n",
       " (2, 3),\n",
       " (2, 4),\n",
       " (2, 5),\n",
       " (2, 6),\n",
       " (3, 6)]"
      ]
     },
     "execution_count": 19,
     "metadata": {},
     "output_type": "execute_result"
    }
   ],
   "source": [
    "# 8.2\n",
    "\n",
    "def exists_path(grid):\n",
    "    \n",
    "    if len(grid) == 0:\n",
    "        return []\n",
    "    path = []\n",
    "    failed_points = []\n",
    "    \n",
    "    if get_path(grid, len(grid)-1, len(grid[0])-1, path, failed_points):\n",
    "        return path\n",
    "    else:\n",
    "        return None\n",
    "    \n",
    "def get_path(grid, row, col, path, failed_points):\n",
    "    \n",
    "    if col < 0 or row < 0 or grid[row][col] > 0:\n",
    "        return False\n",
    "    if (row, col) in failed_points:\n",
    "        return False\n",
    "    if (row == 0 and col == 0) or get_path(grid, row, col-1, path, failed_points) or get_path(grid, row - 1, col, path, failed_points):\n",
    "        path.append((row, col))\n",
    "        return True\n",
    "    failed_points.append(row, col)\n",
    "    return False\n",
    "    \n",
    "    \n",
    "    \n",
    "\n",
    "grid = [[0, 0, 0, 0, 0, 0, 1],\n",
    "        [0, 1, 1, 0, 1, 1, 0],\n",
    "        [0, 0, 1, 0, 0, 0, 0],\n",
    "        [1, 1, 0, 0, 0, 1, 0]]\n",
    "\n",
    "exists_path(grid)"
   ]
  },
  {
   "cell_type": "code",
   "execution_count": 7,
   "metadata": {},
   "outputs": [
    {
     "name": "stdout",
     "output_type": "stream",
     "text": [
      "7\n"
     ]
    }
   ],
   "source": [
    "# 8.3\n",
    "def find_index(array):\n",
    "    index = magic_index(array, 0, len(array) - 1)\n",
    "    return index\n",
    "\n",
    "def magic_index(array, left, right):\n",
    "    \n",
    "    if right < left:\n",
    "        return -1\n",
    "    mid = (left + right) //2\n",
    "    if mid == array[mid]:\n",
    "        return mid\n",
    "    elif mid < array[mid]:\n",
    "        return magic_index(array, left, mid - 1)\n",
    "    else:\n",
    "        return magic_index(array, mid + 1, right)\n",
    "        \n",
    "array = [-40, -20, -1, 1, 2, 3, 5, 7, 9, 12, 13] \n",
    "print(find_index(array))"
   ]
  },
  {
   "cell_type": "code",
   "execution_count": 12,
   "metadata": {},
   "outputs": [
    {
     "name": "stdout",
     "output_type": "stream",
     "text": [
      "{'', 'abc', 'c', 'a', 'bc', 'ac', 'b', 'ab'}\n"
     ]
    }
   ],
   "source": [
    "# 8.4\n",
    "\n",
    "def subsets(s):\n",
    "    sets = {s}\n",
    "    for i in range(0,len(s)):\n",
    "        t = subsets(s[:i] + s[i+1:])\n",
    "        for subset in t:\n",
    "            sets.add(subset)\n",
    "    return sets\n",
    "\n",
    "print(subsets('abc'))"
   ]
  },
  {
   "cell_type": "code",
   "execution_count": 18,
   "metadata": {},
   "outputs": [
    {
     "data": {
      "text/plain": [
       "20"
      ]
     },
     "execution_count": 18,
     "metadata": {},
     "output_type": "execute_result"
    }
   ],
   "source": [
    "# 8.5\n",
    "\n",
    "def min_product(a, b):\n",
    "    if a < b:\n",
    "        small = a\n",
    "        big = b\n",
    "    else:\n",
    "        small = b\n",
    "        big = a\n",
    "    return min_product_help(small, big)\n",
    "\n",
    "def min_product_help(small, big):\n",
    "    if small == 0:\n",
    "        return 0\n",
    "    if small == 1:\n",
    "        return big\n",
    "    \n",
    "    half = small // 2\n",
    "    half_prod = min_product_help(half, big)\n",
    "    \n",
    "    if small % 2 == 0:\n",
    "        return half_prod + half_prod\n",
    "    else:\n",
    "        return half_prod + half_prod + big\n",
    "    \n",
    "min_product(10,2)"
   ]
  },
  {
   "cell_type": "code",
   "execution_count": 56,
   "metadata": {},
   "outputs": [
    {
     "data": {
      "text/plain": [
       "{'abcc',\n",
       " 'acbc',\n",
       " 'accb',\n",
       " 'bacc',\n",
       " 'bcac',\n",
       " 'bcca',\n",
       " 'cabc',\n",
       " 'cacb',\n",
       " 'cbac',\n",
       " 'cbca',\n",
       " 'ccab',\n",
       " 'ccba'}"
      ]
     },
     "execution_count": 56,
     "metadata": {},
     "output_type": "execute_result"
    }
   ],
   "source": [
    "# 8.7 + 8.8\n",
    "def permutations(string):\n",
    "    \n",
    "    result =[]\n",
    "    \n",
    "    if len(string) == 0:\n",
    "        result.append(\"\")\n",
    "        return result\n",
    "    \n",
    "    result = []\n",
    "    for i in range(len(string)):\n",
    "        partials = permutations(string[:i] + string[(i+1):])\n",
    "#         print(partials)\n",
    "        for s in partials:\n",
    "            result.append(string[i] + s)\n",
    "    return set(result)\n",
    "\n",
    "\n",
    "permutations(\"abcc\")"
   ]
  },
  {
   "cell_type": "code",
   "execution_count": 59,
   "metadata": {},
   "outputs": [
    {
     "data": {
      "text/plain": [
       "['((()))', '(()())', '(())()', '()(())', '()()()']"
      ]
     },
     "execution_count": 59,
     "metadata": {},
     "output_type": "execute_result"
    }
   ],
   "source": [
    "# 8.9\n",
    "\n",
    "def addParen(l, leftRem, rightRem, string, index):\n",
    "    if leftRem > rightRem or leftRem < 0 or rightRem < 0:\n",
    "        return\n",
    "    elif leftRem == 0 and rightRem == 0:\n",
    "        l.append(\"\".join(string))\n",
    "    else:\n",
    "        string[index] = '('\n",
    "        addParen(l, leftRem - 1, rightRem, string, index + 1)\n",
    "        \n",
    "        string[index] = ')'\n",
    "        addParen(l, leftRem, rightRem - 1, string, index + 1)\n",
    "        \n",
    "        \n",
    "def generateParens(count):\n",
    "    string = ['']*2*count\n",
    "    l = []\n",
    "    addParen(l, count, count, string, 0)\n",
    "    return l\n",
    "\n",
    "generateParens(3)"
   ]
  },
  {
   "cell_type": "code",
   "execution_count": 2,
   "metadata": {},
   "outputs": [
    {
     "name": "stdout",
     "output_type": "stream",
     "text": [
      "49\n"
     ]
    }
   ],
   "source": [
    "# 8.11\n",
    "\n",
    "def makeChangeHelp(amount, monezi, index):\n",
    "    if index >= len(monezi) - 1:\n",
    "        return 1\n",
    "    ways = 0\n",
    "    i = 0\n",
    "    while i * monezi[index] <= amount:\n",
    "        amountRemaining = amount - i * monezi[index]\n",
    "        ways += makeChangeHelp(amountRemaining, monezi, index + 1)\n",
    "        i += 1\n",
    "        \n",
    "    return ways\n",
    "\n",
    "def makeChange(n):\n",
    "    monezi = [25, 10, 5, 1]\n",
    "    return makeChangeHelp(n, monezi, 0)\n",
    "\n",
    "print(makeChange(52))  "
   ]
  },
  {
   "cell_type": "code",
   "execution_count": 19,
   "metadata": {},
   "outputs": [
    {
     "name": "stdout",
     "output_type": "stream",
     "text": [
      "5\n",
      "7\n"
     ]
    }
   ],
   "source": [
    "# 8.13\n",
    "\n",
    "\n",
    "def tallest_stack(boxes):\n",
    "    boxes.sort(reverse=True)\n",
    "    \n",
    "    n = len(boxes)\n",
    "    dp = [boxes[i].height for i in range(n)]\n",
    "    for i in range(n):\n",
    "        for j in range(i+1, n):\n",
    "            if boxes[i].height > boxes[j].height and boxes[i].width > boxes[j].width and boxes[i].depth > boxes[j].depth:\n",
    "                dp[j] = max(dp[j], dp[j] + dp[i])\n",
    "#     print(dp)\n",
    "    return max(dp)\n",
    "\n",
    "  \n",
    "\n",
    "class Box:\n",
    "    def __init__(self, height, width, depth):\n",
    "        self.height = height\n",
    "        self.width = width\n",
    "        self.depth = depth\n",
    "\n",
    "    def __lt__(self, other):\n",
    "        return self.height < other.height\n",
    "\n",
    "#5\n",
    "print(tallest_stack([Box(3, 2, 1), Box(5, 4, 1)])) \n",
    "\n",
    "#7\n",
    "print(tallest_stack([Box(3, 2, 1), Box(6, 1, 4), Box(4,5,7)]))\n"
   ]
  },
  {
   "cell_type": "code",
   "execution_count": 34,
   "metadata": {},
   "outputs": [
    {
     "name": "stdout",
     "output_type": "stream",
     "text": [
      "10\n"
     ]
    }
   ],
   "source": [
    "#8.14\n",
    "\n",
    "\n",
    "def string_to_bool(s: str) -> bool:\n",
    "    return s == \"1\"\n",
    "\n",
    "\n",
    "def count_ways(exp: str, result: bool, memo) -> int:\n",
    "    if len(exp) == 0:\n",
    "        return 0\n",
    "    if len(exp) == 1:\n",
    "        return 1 if string_to_bool(exp) == result else 0\n",
    "\n",
    "    if exp + str(result) in memo:\n",
    "        return memo[exp + str(result)]\n",
    "\n",
    "    ways = 0\n",
    "    for i in range(1, len(exp), 2):\n",
    "        left = exp[:i]\n",
    "        right = exp[i + 1 :]\n",
    "\n",
    "        left_true = count_ways(left, True, memo)\n",
    "        left_false = count_ways(left, False, memo)\n",
    "        right_true = count_ways(right, True, memo)\n",
    "        right_false = count_ways(right, False, memo)\n",
    "\n",
    "        total = (left_true + left_false) * (right_true + right_false)\n",
    "\n",
    "        total_true = 0\n",
    "        if exp[i] == \"|\":\n",
    "            total_true = (\n",
    "                left_true * right_true\n",
    "                + left_false * right_true\n",
    "                + left_true * right_false\n",
    "            )\n",
    "        elif exp[i] == \"&\":\n",
    "            total_true = left_true * right_true\n",
    "        elif exp[i] == \"^\":\n",
    "            total_true = left_true * right_false + left_false * right_true\n",
    "\n",
    "        subways = total_true if result else (total - total_true)\n",
    "        ways += subways\n",
    "\n",
    "    memo[exp + str(result)] = ways\n",
    "    return ways\n",
    "\n",
    "\n",
    "def evaluate(exp: str, result: bool) -> int:\n",
    "    memo = {}\n",
    "    return count_ways(exp, result, memo)\n",
    "\n",
    "print(evaluate(\"0&0&0&1^1|0\", True))"
   ]
  },
  {
   "cell_type": "code",
   "execution_count": null,
   "metadata": {},
   "outputs": [],
   "source": []
  }
 ],
 "metadata": {
  "kernelspec": {
   "display_name": "Python 3",
   "language": "python",
   "name": "python3"
  },
  "language_info": {
   "codemirror_mode": {
    "name": "ipython",
    "version": 3
   },
   "file_extension": ".py",
   "mimetype": "text/x-python",
   "name": "python",
   "nbconvert_exporter": "python",
   "pygments_lexer": "ipython3",
   "version": "3.7.6"
  }
 },
 "nbformat": 4,
 "nbformat_minor": 4
}
