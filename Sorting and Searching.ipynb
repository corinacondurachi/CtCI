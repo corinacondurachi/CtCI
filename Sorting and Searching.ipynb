{
 "cells": [
  {
   "cell_type": "code",
   "execution_count": 17,
   "metadata": {},
   "outputs": [
    {
     "name": "stdout",
     "output_type": "stream",
     "text": [
      "[1, 3, 4, 5, 6, 7, 7, 10, 11, 43, 45, 66, 70, 123, 276, 567]\n"
     ]
    }
   ],
   "source": [
    "#10.1\n",
    "\n",
    "def merge(a,b):\n",
    "    index_a = 0\n",
    "    index_b = 0\n",
    "    \n",
    "    while index_a < len(a) and index_b < len(b):\n",
    "        while b[index_b] > a[index_a]:\n",
    "            if index_a + 1 < len(a):\n",
    "                index_a += 1\n",
    "            else:\n",
    "                index_a += 1\n",
    "                break\n",
    "        a.insert(index_a, b[index_b])\n",
    "        index_b += 1\n",
    "    \n",
    "    while index_b < len(b):\n",
    "        a.append(b[index_b])\n",
    "        index_b += 1\n",
    "        \n",
    "a = [1,3,4,6,7,10,45,66,123]\n",
    "b = [5,7,11,43,70,276, 567]\n",
    "merge(a,b)\n",
    "print(a)"
   ]
  },
  {
   "cell_type": "code",
   "execution_count": 28,
   "metadata": {},
   "outputs": [
    {
     "data": {
      "text/plain": [
       "['casa', 'saca', 'aacs', 'daca', 'cada', 'faca']"
      ]
     },
     "execution_count": 28,
     "metadata": {},
     "output_type": "execute_result"
    }
   ],
   "source": [
    "#10.2\n",
    "\n",
    "def anagrams(s1, s2):\n",
    "    l1 = list(s1)\n",
    "    l2 = list(s2)\n",
    "    l1.sort()\n",
    "    l2.sort()\n",
    "    return l1 == l2\n",
    "\n",
    "def sort_chars(s):\n",
    "    l = list(s)\n",
    "    l.sort()\n",
    "    return \"\".join(l)\n",
    "\n",
    "def sort_arr(arr):\n",
    "    d = {}\n",
    "    sorted_list =[]\n",
    "    for word in arr:\n",
    "        key = sort_chars(word)\n",
    "        if key not in d.keys():\n",
    "            d[key] = [word]\n",
    "        else:\n",
    "            d[key].append(word)\n",
    "    for key in d.keys():\n",
    "        for value in d[key]:\n",
    "            sorted_list.append(value)\n",
    "    return sorted_list\n",
    "                \n",
    "\n",
    "arr = ['casa', 'saca', 'daca', 'aacs', 'cada', 'faca']\n",
    "sort_arr(arr)"
   ]
  },
  {
   "cell_type": "code",
   "execution_count": 40,
   "metadata": {},
   "outputs": [
    {
     "name": "stdout",
     "output_type": "stream",
     "text": [
      "9\n"
     ]
    }
   ],
   "source": [
    "#10.3\n",
    "\n",
    "def search(arr, left, right, x):\n",
    "    \n",
    "    mid = (left + right) // 2\n",
    "    \n",
    "#     print(mid, arr[mid])\n",
    "    \n",
    "    if x == arr[mid]:\n",
    "        return mid\n",
    "    \n",
    "    if right < left:\n",
    "        return -1\n",
    "    \n",
    "    if a[left] < a[mid]:\n",
    "        # left part is normally ordered\n",
    "        if x >= a[left] and x < arr[mid]:\n",
    "            # search left\n",
    "            return search(a, left, mid - 1, x)\n",
    "        else:\n",
    "            return search(a, mid + 1, right, x)\n",
    "        \n",
    "    elif a[mid] < a[left]:\n",
    "        # right part is normally ordered\n",
    "        if x > a[mid] and x <= a[right]:\n",
    "            # search left\n",
    "            return search(a, mid + 1, right, x)\n",
    "        else:\n",
    "            return search(a, left, mid - 1, x)\n",
    "        \n",
    "    elif a[mid] == a[left]:\n",
    "        if a[mid] != a[right]:\n",
    "            return search(a, mid + 1, right, x)\n",
    "        else:\n",
    "            result = search(a, mid + 1, right, x)\n",
    "            if result != -1:\n",
    "                return search(a, left, mid - 1, x)\n",
    "            else:\n",
    "                return result\n",
    "        \n",
    "        \n",
    "    \n",
    "arr = [15, 16, 19, 20, 25, 1, 3, 4, 5, 7, 10, 14]\n",
    "x = 5\n",
    "print(search(arr, 0, len(arr)-1, 7))"
   ]
  },
  {
   "cell_type": "code",
   "execution_count": 54,
   "metadata": {},
   "outputs": [
    {
     "data": {
      "text/plain": [
       "4"
      ]
     },
     "execution_count": 54,
     "metadata": {},
     "output_type": "execute_result"
    }
   ],
   "source": [
    "#10.4\n",
    "\n",
    "def search(arr, first, last, x):\n",
    "    \n",
    "    mid = (last + first) // 2\n",
    "    \n",
    "    if x == arr[mid]:\n",
    "        return mid\n",
    "    \n",
    "    if last < first:\n",
    "        return -1\n",
    "    \n",
    "    if arr[mid] == '':\n",
    "        left = mid - 1\n",
    "        right = mid + 1\n",
    "        while 1:\n",
    "            if left < first and right > last:\n",
    "                return -1\n",
    "            elif left >= first and arr[left] != '':\n",
    "                mid = left\n",
    "                break\n",
    "            elif right <= last and arr[right] != '':\n",
    "                mid = right\n",
    "                break\n",
    "            right += 1\n",
    "            left -= 1\n",
    "    if arr[mid] == x:\n",
    "        return mid\n",
    "    elif arr[mid] > x:\n",
    "        return search(arr, first, mid - 1, x)\n",
    "    else:\n",
    "        return search(arr, mid + 1, last, x)\n",
    "    \n",
    "arr = ['at', '', '', '', 'ball', '', '', 'car', '', '', 'dad', '', '']\n",
    "search(arr, 0, len(arr)-1, \"ball\")"
   ]
  },
  {
   "cell_type": "code",
   "execution_count": 5,
   "metadata": {},
   "outputs": [
    {
     "name": "stdout",
     "output_type": "stream",
     "text": [
      "[3, 5, 1, 3, 2]\n"
     ]
    }
   ],
   "source": [
    "# 10.11\n",
    "\n",
    "def sort_peeks(arr):\n",
    "    \n",
    "    for i in range (1, len(arr), 2):\n",
    "        biggest_element = max(arr[i-1:i+2])\n",
    "        if biggest_element == arr[i-1]:\n",
    "            biggest_index = i-1\n",
    "        elif biggest_element == arr[i+1]:\n",
    "            biggest_index = i+1\n",
    "        else:\n",
    "            biggest_index = i\n",
    "        if i != biggest_index:\n",
    "            arr[i], arr[biggest_index] = arr[biggest_index], arr[i]\n",
    "            \n",
    "    return arr\n",
    "            \n",
    "arr = [5, 3, 1, 2, 3]\n",
    "print(sort_peeks(arr))          "
   ]
  }
 ],
 "metadata": {
  "kernelspec": {
   "display_name": "Python 3",
   "language": "python",
   "name": "python3"
  },
  "language_info": {
   "codemirror_mode": {
    "name": "ipython",
    "version": 3
   },
   "file_extension": ".py",
   "mimetype": "text/x-python",
   "name": "python",
   "nbconvert_exporter": "python",
   "pygments_lexer": "ipython3",
   "version": "3.7.6"
  }
 },
 "nbformat": 4,
 "nbformat_minor": 4
}
