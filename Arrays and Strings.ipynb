{
 "cells": [
  {
   "cell_type": "code",
   "execution_count": 4,
   "metadata": {},
   "outputs": [
    {
     "name": "stdout",
     "output_type": "stream",
     "text": [
      "True\n",
      "False\n"
     ]
    }
   ],
   "source": [
    "##1.1\n",
    "# O(N)\n",
    "\n",
    "\n",
    "def unique(string):\n",
    "    # Assuming character set is ASCII (128 characters)\n",
    "    if len(string) > 128:\n",
    "        return False\n",
    "\n",
    "    char_set = [False for _ in range(128)]\n",
    "    for char in string:\n",
    "        val = ord(char)\n",
    "        if char_set[val]:\n",
    "            # Char already found in string\n",
    "            return False\n",
    "        char_set[val] = True\n",
    "\n",
    "    return True\n",
    "\n",
    "s1 = \"abcdertsko8263\"\n",
    "print(unique(s1))\n",
    "\n",
    "s2 = \"abcdertsko8263==\"\n",
    "print(unique(s2))"
   ]
  },
  {
   "cell_type": "code",
   "execution_count": 14,
   "metadata": {},
   "outputs": [
    {
     "name": "stdout",
     "output_type": "stream",
     "text": [
      "True\n"
     ]
    }
   ],
   "source": [
    "##1.2\n",
    "# O(N)\n",
    "from collections import Counter\n",
    "\n",
    "def check_permutation(str1, str2):\n",
    "    if len(str1) != len(str2):\n",
    "        return False\n",
    "    counter = Counter()\n",
    "    for c in str1:\n",
    "        counter[c] += 1\n",
    "    #print(counter)\n",
    "    for c in str2:\n",
    "        if counter[c] == 0:\n",
    "            return False\n",
    "        counter[c] -= 1\n",
    "    return True\n",
    "\n",
    "\n",
    "s1 = 'abccc'\n",
    "s2 = 'cbcac'\n",
    "print(check_permutation(s1,s2))"
   ]
  },
  {
   "cell_type": "code",
   "execution_count": 22,
   "metadata": {},
   "outputs": [
    {
     "name": "stdout",
     "output_type": "stream",
     "text": [
      "Mr%20John%20Smith\n"
     ]
    }
   ],
   "source": [
    "#1.3\n",
    "# O(N)\n",
    "\n",
    "\n",
    "def urlify(string, length):\n",
    "    '''function replaces single spaces with %20 and removes trailing spaces'''\n",
    "    string = list(string)\n",
    "\n",
    "    for i in range(length):\n",
    "        if string[i] == ' ':\n",
    "            string[i] = '%20'     \n",
    "\n",
    "    return \"\".join(string)\n",
    "\n",
    "print(urlify('Mr John Smith', 13))"
   ]
  },
  {
   "cell_type": "code",
   "execution_count": 42,
   "metadata": {},
   "outputs": [
    {
     "name": "stdout",
     "output_type": "stream",
     "text": [
      "True\n"
     ]
    }
   ],
   "source": [
    "#1.4\n",
    "# O(N)\n",
    "\n",
    "\n",
    "def pal_perm(phrase):\n",
    "    '''function checks if a string is a permutation of a palindrome or not'''\n",
    "    phrase = phrase.lower()\n",
    "    phrase = phrase.replace(\" \", '')\n",
    "    d = {}\n",
    "    for i in phrase:\n",
    "        if i in d.keys():\n",
    "            del d[i]\n",
    "        else:\n",
    "            d[i] = 1\n",
    "    if len(d) <= 1:\n",
    "        return True\n",
    "    return False\n",
    "            \n",
    "    \n",
    "#     for i in \n",
    "#     return countodd <= 1\n",
    "\n",
    "phrase = \"Tact Coa\"\n",
    "print(pal_perm(phrase))"
   ]
  },
  {
   "cell_type": "code",
   "execution_count": 46,
   "metadata": {},
   "outputs": [
    {
     "name": "stdout",
     "output_type": "stream",
     "text": [
      "True\n",
      "True\n",
      "True\n",
      "False\n"
     ]
    }
   ],
   "source": [
    "#1.5\n",
    "#O(N)\n",
    "\n",
    "\n",
    "def one_away(s1, s2):\n",
    "    '''Check if a string can converted to another string with a single edit'''\n",
    "    if len(s1) == len(s2):\n",
    "        return one_edit_replace(s1, s2)\n",
    "    elif len(s1) + 1 == len(s2):\n",
    "        return one_edit_insert(s1, s2)\n",
    "    elif len(s1) - 1 == len(s2):\n",
    "        return one_edit_insert(s2, s1)\n",
    "    return False\n",
    "\n",
    "\n",
    "def one_edit_replace(s1, s2):\n",
    "    edited = False\n",
    "    for c1, c2 in zip(s1, s2):\n",
    "        if c1 != c2:\n",
    "            if edited:\n",
    "                return False\n",
    "            edited = True\n",
    "    return True\n",
    "\n",
    "\n",
    "def one_edit_insert(s1, s2):\n",
    "    edited = False\n",
    "    i, j = 0, 0\n",
    "    while i < len(s1) and j < len(s2):\n",
    "        if s1[i] != s2[j]:\n",
    "            if edited:\n",
    "                return False\n",
    "            edited = True\n",
    "            j += 1\n",
    "        else:\n",
    "            i += 1\n",
    "            j += 1\n",
    "    return True\n",
    "\n",
    "print(one_away('pale', 'bale'))\n",
    "print(one_away('pale', 'pal'))\n",
    "print(one_away('pale', 'paale'))\n",
    "print(one_away('pale', 'paleee'))"
   ]
  },
  {
   "cell_type": "code",
   "execution_count": 50,
   "metadata": {},
   "outputs": [
    {
     "data": {
      "text/plain": [
       "'a2b3v3c2'"
      ]
     },
     "execution_count": 50,
     "metadata": {},
     "output_type": "execute_result"
    }
   ],
   "source": [
    "#1.6\n",
    "# O(N)\n",
    "\n",
    "\n",
    "def string_compression(string):\n",
    "    compressed = []\n",
    "    counter = 0\n",
    "\n",
    "    for i in range(1, len(string)):\n",
    "        if string[i] != string[i - 1]:\n",
    "            compressed.append(string[i - 1] + str(counter))\n",
    "            counter = 0\n",
    "        counter += 1\n",
    "\n",
    "    # add last repeated character\n",
    "    compressed.append(string[-1] + str(counter))\n",
    "\n",
    "    # returns original string if compressed string isn't smaller\n",
    "    return min(string, ''.join(compressed), key=len)\n",
    "\n",
    "string_compression('aabb')\n",
    "string_compression('aaabbbvvvcc')"
   ]
  },
  {
   "cell_type": "code",
   "execution_count": 53,
   "metadata": {},
   "outputs": [
    {
     "name": "stdout",
     "output_type": "stream",
     "text": [
      "[[21, 2, 3, 4, 1], [6, 7, 8, 9, 10], [11, 12, 13, 14, 15], [16, 17, 18, 19, 20], [25, 22, 23, 24, 5]]\n",
      "[[21, 16, 3, 4, 1], [6, 7, 8, 9, 2], [11, 12, 13, 14, 15], [24, 17, 18, 19, 20], [25, 22, 23, 10, 5]]\n",
      "[[21, 16, 11, 4, 1], [6, 7, 8, 9, 2], [23, 12, 13, 14, 3], [24, 17, 18, 19, 20], [25, 22, 15, 10, 5]]\n",
      "[[21, 16, 11, 6, 1], [22, 7, 8, 9, 2], [23, 12, 13, 14, 3], [24, 17, 18, 19, 4], [25, 20, 15, 10, 5]]\n",
      "[[21, 16, 11, 6, 1], [22, 17, 8, 7, 2], [23, 12, 13, 14, 3], [24, 19, 18, 9, 4], [25, 20, 15, 10, 5]]\n",
      "[[21, 16, 11, 6, 1], [22, 17, 12, 7, 2], [23, 18, 13, 8, 3], [24, 19, 14, 9, 4], [25, 20, 15, 10, 5]]\n"
     ]
    },
    {
     "data": {
      "text/plain": [
       "[[21, 16, 11, 6, 1],\n",
       " [22, 17, 12, 7, 2],\n",
       " [23, 18, 13, 8, 3],\n",
       " [24, 19, 14, 9, 4],\n",
       " [25, 20, 15, 10, 5]]"
      ]
     },
     "execution_count": 53,
     "metadata": {},
     "output_type": "execute_result"
    }
   ],
   "source": [
    "#1.7\n",
    "#O(N^2)\n",
    "\n",
    "def rotate_matrix(matrix):\n",
    "    '''rotates a matrix 90 degrees clockwise'''\n",
    "    n = len(matrix)\n",
    "    for layer in range(n // 2):\n",
    "        first, last = layer, n - layer - 1\n",
    "        for i in range(first, last):\n",
    "            # save top\n",
    "            top = matrix[layer][i]\n",
    "\n",
    "            # left -> top\n",
    "            matrix[layer][i] = matrix[-i - 1][layer]\n",
    "\n",
    "            # bottom -> left\n",
    "            matrix[-i - 1][layer] = matrix[-layer - 1][-i - 1]\n",
    "\n",
    "            # right -> bottom\n",
    "            matrix[-layer - 1][-i - 1] = matrix[i][- layer - 1]\n",
    "\n",
    "            # top -> right\n",
    "            matrix[i][- layer - 1] = top\n",
    "            \n",
    "    return matrix\n",
    "\n",
    "matrix = [\n",
    "            [1, 2, 3, 4, 5],\n",
    "            [6, 7, 8, 9, 10],\n",
    "            [11, 12, 13, 14, 15],\n",
    "            [16, 17, 18, 19, 20],\n",
    "            [21, 22, 23, 24, 25]]\n",
    "rotate_matrix(matrix)"
   ]
  },
  {
   "cell_type": "code",
   "execution_count": 54,
   "metadata": {},
   "outputs": [
    {
     "data": {
      "text/plain": [
       "[[0, 0, 0, 0, 0],\n",
       " [0, 0, 0, 0, 0],\n",
       " [11, 0, 13, 14, 0],\n",
       " [0, 0, 0, 0, 0],\n",
       " [21, 0, 23, 24, 0]]"
      ]
     },
     "execution_count": 54,
     "metadata": {},
     "output_type": "execute_result"
    }
   ],
   "source": [
    "# 1.8\n",
    "#O(M*N)\n",
    "\n",
    "def zero_matrix(matrix):\n",
    "    m = len(matrix)\n",
    "    n = len(matrix[0])\n",
    "    rows = []\n",
    "    cols = []\n",
    "\n",
    "    for x in range(m):\n",
    "        for y in range(n):\n",
    "            if matrix[x][y] == 0:\n",
    "                rows.append(x)\n",
    "                cols.append(y)\n",
    "\n",
    "    for row in rows:\n",
    "        nullify_row(matrix, row)\n",
    "\n",
    "    for col in cols:\n",
    "        nullify_col(matrix, col)\n",
    "\n",
    "    return matrix\n",
    "\n",
    "\n",
    "def nullify_row(matrix, row):\n",
    "    for i in range(len(matrix[0])):\n",
    "        matrix[row][i] = 0\n",
    "\n",
    "\n",
    "def nullify_col(matrix, col):\n",
    "    for i in range(len(matrix)):\n",
    "        matrix[i][col] = 0\n",
    "\n",
    "matrix = [[1, 2, 3, 4, 0],\n",
    "            [6, 0, 8, 9, 10],\n",
    "            [11, 12, 13, 14, 15],\n",
    "            [16, 0, 18, 19, 20],\n",
    "            [21, 22, 23, 24, 25]] \n",
    "zero_matrix(matrix)"
   ]
  },
  {
   "cell_type": "code",
   "execution_count": 57,
   "metadata": {},
   "outputs": [
    {
     "name": "stdout",
     "output_type": "stream",
     "text": [
      "True\n"
     ]
    }
   ],
   "source": [
    "#1.9\n",
    "# O(N)\n",
    "\n",
    "def is_substring(string, sub):\n",
    "    return string.find(sub) != -1\n",
    "\n",
    "\n",
    "def string_rotation(s1, s2):\n",
    "    if len(s1) == len(s2) != 0:\n",
    "        return is_substring(s1 + s1, s2)\n",
    "    return False\n",
    "\n",
    "s1 = 'waterbottle'\n",
    "s2 = 'erbottlewat'\n",
    "print(string_rotation(s1,s2))"
   ]
  }
 ],
 "metadata": {
  "kernelspec": {
   "display_name": "Python 3",
   "language": "python",
   "name": "python3"
  },
  "language_info": {
   "codemirror_mode": {
    "name": "ipython",
    "version": 3
   },
   "file_extension": ".py",
   "mimetype": "text/x-python",
   "name": "python",
   "nbconvert_exporter": "python",
   "pygments_lexer": "ipython3",
   "version": "3.7.6"
  }
 },
 "nbformat": 4,
 "nbformat_minor": 4
}
